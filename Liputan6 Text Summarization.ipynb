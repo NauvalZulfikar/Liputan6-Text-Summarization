{
 "cells": [
  {
   "cell_type": "code",
   "execution_count": 87,
   "id": "a2f044bb-2916-4914-be8d-7dc7648173ff",
   "metadata": {},
   "outputs": [],
   "source": [
    "import os\n",
    "import json\n",
    "import rouge\n",
    "import pandas as pd\n",
    "! pip install transformers\n",
    "from transformers import pipeline, BertTokenizer, EncoderDecoderModel\n",
    "from sklearn.model_selection import GridSearchCV\n",
    "import warnings\n",
    "warnings.filterwarnings('ignore')\n",
    "from IPython.display import clear_output\n",
    "clear_output()\n",
    "\n",
    "# Inherit ROUGE scoring\n",
    "rouge_scoring = rouge.Rouge()"
   ]
  },
  {
   "cell_type": "code",
   "execution_count": 3,
   "id": "da3b4e33-9b53-4d1d-96b9-12fd12051a6b",
   "metadata": {},
   "outputs": [
    {
     "data": {
      "text/plain": [
       "['100000.json',\n",
       " '100002.json',\n",
       " '100003.json',\n",
       " '100004.json',\n",
       " '100005.json',\n",
       " '100006.json',\n",
       " '100007.json',\n",
       " '100008.json',\n",
       " '100009.json',\n",
       " '100010.json']"
      ]
     },
     "execution_count": 58,
     "metadata": {},
     "output_type": "execute_result"
    }
   ],
   "source": [
    "os.listdir(\"D:/Downloads/Data/Indonesia AI/NLP Project 2/liputan6_data/canonical/train\")[:5]"
   ]
  },
  {
   "cell_type": "code",
   "execution_count": 113,
   "id": "b2329dfa-395e-49d8-a5f5-7a77f6cb781d",
   "metadata": {},
   "outputs": [
    {
     "name": "stdout",
     "output_type": "stream",
     "text": [
      "BERT2GPT\n",
      "\n",
      "Clean Article\n",
      "\n",
      "Liputan6 . com , Nias : Warga Nias , Sumatra Utara , panik . Mereka secara bergelombang kembali mengungsi . Warga takut karena ada isu Tsunami segera menghajar Nias menyusul gempa berkekuatan 4 , 5 pada skala Richter , dini hari kemarin . Demikian hasil pantauan SCTV di Nias , Jumat ( 22/4 ) . Sampai siang tadi , masih ada warga yang mengungsi . Bahkan pengungsi yang tinggal di sejumlah tenda darurat pun ikut panik . Mereka langsung pergi ke daerah lebih tinggi di Bukit Hili Adulo . Sedangkan sebagian lainnya bergerak menuju Sibolga . Situasi Nias kembali kacau . Bupati Nias Binahati Baeha sampai turun tangan . Dia langsung mengimbau warga di kawasan Muzei , Nias tidak resah . Berulang kali Bupati Nias meminta warga agar tidak mempercayai isu itu . Binahati mengatakan , gempa susulan memang masih mungkin menggoyang Nias . Tapi dia memastikan gempa tak akan melahirkan Tsunami [ baca : Gempa Susulan Masih Mungkin Terjadi ] . \" Nias tak akan tenggelam , \" kata Binahati . ( ICH/Tim Liputan 6 SCTV ) .\n",
      "\n",
      "\n",
      "Clean Summary\n",
      "\n",
      "Mereka langsung pergi ke daerah lebih tinggi di Bukit Hili Adulo begitu isu Tsunami kembali menerpa Nias , Sumatra Utara . Sedangkan sebagian lainnya bergerak menuju Sibolga .\n",
      "\n",
      "\n",
      "Article Summarized\n",
      "\n",
      "warga nias, sumut, secara bergelombang kembali mengungsi. mereka langsung pergi ke daerah lebih tinggi di bukit hili adulo.\n"
     ]
    }
   ],
   "source": [
    "# Load sample json data\n",
    "data_sample = json.load(open(\n",
    "    \"D:/Downloads/Data/Indonesia AI/NLP Project 2/liputan6_data/canonical/train/100009.json\", \"r\"\n",
    "))\n",
    "\n",
    "from transformers import BertTokenizer, EncoderDecoderModel\n",
    "\n",
    "tokenizer = BertTokenizer.from_pretrained(\"cahya/bert2gpt-indonesian-summarization\")\n",
    "tokenizer.bos_token = tokenizer.cls_token\n",
    "tokenizer.eos_token = tokenizer.sep_token\n",
    "model = EncoderDecoderModel.from_pretrained(\"cahya/bert2gpt-indonesian-summarization\")\n",
    "\n",
    "print('BERT2GPT\\n')\n",
    "print('Clean Article\\n')\n",
    "# Define sample preprocessed article \n",
    "ARTICLE_TO_SUMMARIZE = \" \".join(sum(data_sample['clean_article'], []))\n",
    "print(ARTICLE_TO_SUMMARIZE)\n",
    "\n",
    "print('\\n\\nClean Summary\\n')\n",
    "# Define sample preprocessed article \n",
    "SUMMARIZE_RESULT = \" \".join(sum(data_sample['clean_summary'], []))\n",
    "print(SUMMARIZE_RESULT)\n",
    "\n",
    "# generate summary\n",
    "input_ids = tokenizer.encode(ARTICLE_TO_SUMMARIZE, return_tensors='pt')\n",
    "summary_ids = model.generate(input_ids,\n",
    "            min_length=20,\n",
    "            max_length=80, \n",
    "            num_beams=10,\n",
    "            repetition_penalty=2.5, \n",
    "            length_penalty=1.0, \n",
    "            early_stopping=True,\n",
    "            no_repeat_ngram_size=2,\n",
    "            use_cache=True,\n",
    "            do_sample = True,\n",
    "            temperature = 0.8,\n",
    "            top_k = 100,\n",
    "            top_p = 9.0)\n",
    "\n",
    "summary_text = tokenizer.decode(summary_ids[0], skip_special_tokens=True)\n",
    "print('\\n\\nArticle Summarized\\n')\n",
    "print(summary_text)"
   ]
  },
  {
   "cell_type": "code",
   "execution_count": 111,
   "id": "bd3b019f-6649-48ae-944f-6d2c31a1346e",
   "metadata": {},
   "outputs": [
    {
     "name": "stdout",
     "output_type": "stream",
     "text": [
      "Rouge ke Artikel\n",
      "\n"
     ]
    },
    {
     "data": {
      "text/plain": [
       "[{'rouge-1': {'r': 0.6666666666666666,\n",
       "   'p': 0.10434782608695652,\n",
       "   'f': 0.18045112547911132},\n",
       "  'rouge-2': {'r': 0.5294117647058824,\n",
       "   'p': 0.057692307692307696,\n",
       "   'f': 0.10404624100237231},\n",
       "  'rouge-l': {'r': 0.6666666666666666,\n",
       "   'p': 0.10434782608695652,\n",
       "   'f': 0.18045112547911132}}]"
      ]
     },
     "execution_count": 111,
     "metadata": {},
     "output_type": "execute_result"
    }
   ],
   "source": [
    "print('Rouge ke Artikel\\n')\n",
    "rouge_scoring.get_scores(\n",
    "    ARTICLE_TO_SUMMARIZE, summary_text\n",
    ")"
   ]
  }
 ],
 "metadata": {
  "kernelspec": {
   "display_name": "Python 3 (ipykernel)",
   "language": "python",
   "name": "python3"
  },
  "language_info": {
   "codemirror_mode": {
    "name": "ipython",
    "version": 3
   },
   "file_extension": ".py",
   "mimetype": "text/x-python",
   "name": "python",
   "nbconvert_exporter": "python",
   "pygments_lexer": "ipython3",
   "version": "3.9.12"
  }
 },
 "nbformat": 4,
 "nbformat_minor": 5
}
